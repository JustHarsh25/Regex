{
 "cells": [
  {
   "cell_type": "markdown",
   "id": "997a2afe-deef-46f2-a85d-4420c2629bef",
   "metadata": {},
   "source": [
    "#1. Validating e-mails"
   ]
  },
  {
   "cell_type": "code",
   "execution_count": 1,
   "id": "47727059-ae7b-4320-8b69-d59c86b0f54e",
   "metadata": {},
   "outputs": [
    {
     "name": "stdout",
     "output_type": "stream",
     "text": [
      "True\n",
      "False\n",
      "False\n"
     ]
    }
   ],
   "source": [
    "import re\n",
    "\n",
    "def validate_email(email):\n",
    "    pattern = r'^[\\w.%+-]+@[a-zA-Z\\d.-]+\\.[a-zA-Z]{2,}$'\n",
    "    if re.match(pattern, email):\n",
    "        return True\n",
    "    return False\n",
    "\n",
    "# Example usage\n",
    "email1 = \"example@email.com\"\n",
    "email2 = \"invalid-email@\"\n",
    "email3 = \"notanemail.com\"\n",
    "\n",
    "print(validate_email(email1))  # Output: True\n",
    "print(validate_email(email2))  # Output: False\n",
    "print(validate_email(email3))  # Output: False\n"
   ]
  },
  {
   "cell_type": "markdown",
   "id": "9c778664-c39e-444a-9c2c-40009dda15f9",
   "metadata": {},
   "source": [
    "#2. Validating password"
   ]
  },
  {
   "cell_type": "code",
   "execution_count": 2,
   "id": "f8d93f08-3b58-4458-bcf8-1f27bbdf20bf",
   "metadata": {},
   "outputs": [
    {
     "name": "stdout",
     "output_type": "stream",
     "text": [
      "True\n",
      "False\n"
     ]
    }
   ],
   "source": [
    "import re\n",
    "\n",
    "def check_password_strength(password):\n",
    "    pattern = r'^(?=.*[a-z])(?=.*[A-Z])(?=.*\\d)(?=.*[@$!%*?&])[A-Za-z\\d@$!%*?&]{8,}$'\n",
    "    if re.match(pattern, password):\n",
    "        return True\n",
    "    return False\n",
    "\n",
    "# Example usage\n",
    "password1 = \"StrongP@ssw0rd\"\n",
    "password2 = \"weakpassword123\"\n",
    "\n",
    "print(check_password_strength(password1))  # Output: True\n",
    "print(check_password_strength(password2))  # Output: False\n"
   ]
  },
  {
   "cell_type": "markdown",
   "id": "0d3cd97b-ebda-4504-ae8f-35e7b24afcf1",
   "metadata": {},
   "source": [
    "#3. Validating phone numbers"
   ]
  },
  {
   "cell_type": "code",
   "execution_count": 3,
   "id": "3111786e-8a9a-4436-9240-91c0b93bd82d",
   "metadata": {},
   "outputs": [
    {
     "name": "stdout",
     "output_type": "stream",
     "text": [
      "[('+91 ', '1234567890'), ('', '9876543210'), ('', '080-12345678'), ('', '91-98765432'), ('+91 ', '9876543210')]\n"
     ]
    }
   ],
   "source": [
    "import re\n",
    "\n",
    "def extract_phone_numbers(text):\n",
    "    pattern = r'(\\+\\d{1,2}\\s?)?(\\d{10}|\\d{2,3}-\\d{8}|\\d{4}-\\d{7})'\n",
    "    return re.findall(pattern, text)\n",
    "\n",
    "# Example usage\n",
    "text = \"\"\"\n",
    "Here are some phone numbers:\n",
    "+91 1234567890,\n",
    "9876543210,\n",
    "080-12345678,\n",
    "+91-9876543210,\n",
    "Invalid: 12345, +91 98765432101234\n",
    "\"\"\"\n",
    "\n",
    "phone_numbers = extract_phone_numbers(text)\n",
    "print(phone_numbers)"
   ]
  },
  {
   "cell_type": "markdown",
   "id": "f664abb7-2ccf-4db0-b930-6ffc5f2d5ffd",
   "metadata": {},
   "source": [
    "#4. Extracting urls"
   ]
  },
  {
   "cell_type": "code",
   "execution_count": 1,
   "id": "15ea2a4c-aaf2-475e-b870-a66b7d455652",
   "metadata": {},
   "outputs": [
    {
     "name": "stdout",
     "output_type": "stream",
     "text": [
      "['https://www.example.com', 'https://www.google.com']\n"
     ]
    }
   ],
   "source": [
    "import re\n",
    "\n",
    "def extract_urls(text):\n",
    "    pattern = r'https?://\\S+'\n",
    "    return re.findall(pattern, text)\n",
    "\n",
    "# Example usage\n",
    "text = \"Visit my website at https://www.example.com or check out https://www.google.com\"\n",
    "urls = extract_urls(text)\n",
    "print(urls)\n"
   ]
  },
  {
   "cell_type": "markdown",
   "id": "539729dc-15f6-430e-ac89-80c9cfda6564",
   "metadata": {},
   "source": [
    "#5. Validating IP addresses"
   ]
  },
  {
   "cell_type": "code",
   "execution_count": 2,
   "id": "b274a35f-0929-4f08-9f41-e9df4914d6a7",
   "metadata": {},
   "outputs": [
    {
     "name": "stdout",
     "output_type": "stream",
     "text": [
      "True\n",
      "False\n"
     ]
    }
   ],
   "source": [
    "import re\n",
    "\n",
    "def validate_ipv4(ip):\n",
    "    pattern = r'^(?:(?:25[0-5]|2[0-4][0-9]|[01]?[0-9][0-9]?)\\.){3}(?:25[0-5]|2[0-4][0-9]|[01]?[0-9][0-9]?)$'\n",
    "    return bool(re.match(pattern, ip))\n",
    "\n",
    "# Example usage\n",
    "ipv4_address1 = \"192.0.2.146\"\n",
    "ipv4_address2 = \"256.0.2.146\"\n",
    "\n",
    "print(validate_ipv4(ipv4_address1))  # Output: True\n",
    "print(validate_ipv4(ipv4_address2))  # Output: False\n"
   ]
  },
  {
   "cell_type": "markdown",
   "id": "a2584cf7-8451-46d3-a4ea-e780df9407c1",
   "metadata": {},
   "source": [
    "#6. Extracting html tags"
   ]
  },
  {
   "cell_type": "code",
   "execution_count": 3,
   "id": "a3fd47de-d8f7-4adf-9e1d-896c43230336",
   "metadata": {},
   "outputs": [
    {
     "name": "stdout",
     "output_type": "stream",
     "text": [
      "['<html>', '<head>', '<title>', '</title>', '</head>', '<body>', '<h1>', '</h1>', '<p>', '</p>', '</body>', '</html>']\n"
     ]
    }
   ],
   "source": [
    "import re\n",
    "\n",
    "def extract_html_tags(html):\n",
    "    pattern = r'<[^>]+>'\n",
    "    return re.findall(pattern, html)\n",
    "\n",
    "# Example usage\n",
    "html_content = \"\"\"\n",
    "<html>\n",
    "  <head>\n",
    "    <title>Sample Page</title>\n",
    "  </head>\n",
    "  <body>\n",
    "    <h1>Hello, World!</h1>\n",
    "    <p>This is a sample paragraph.</p>\n",
    "  </body>\n",
    "</html>\n",
    "\"\"\"\n",
    "\n",
    "tags = extract_html_tags(html_content)\n",
    "print(tags)\n"
   ]
  },
  {
   "cell_type": "code",
   "execution_count": null,
   "id": "eef973e4-5ef9-4ccf-8f38-80a6b31f3764",
   "metadata": {},
   "outputs": [],
   "source": []
  }
 ],
 "metadata": {
  "kernelspec": {
   "display_name": "Python 3 (ipykernel)",
   "language": "python",
   "name": "python3"
  },
  "language_info": {
   "codemirror_mode": {
    "name": "ipython",
    "version": 3
   },
   "file_extension": ".py",
   "mimetype": "text/x-python",
   "name": "python",
   "nbconvert_exporter": "python",
   "pygments_lexer": "ipython3",
   "version": "3.10.11"
  }
 },
 "nbformat": 4,
 "nbformat_minor": 5
}
